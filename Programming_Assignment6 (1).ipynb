{
 "cells": [
  {
   "cell_type": "markdown",
   "id": "0645a739",
   "metadata": {},
   "source": [
    "# Programming_Assignment 6"
   ]
  },
  {
   "cell_type": "markdown",
   "id": "baeb0339",
   "metadata": {},
   "source": [
    "1. Write a Python Program to Display Fibonacci Sequence Using Recursion?"
   ]
  },
  {
   "cell_type": "code",
   "execution_count": 1,
   "id": "48ac86e7",
   "metadata": {},
   "outputs": [
    {
     "name": "stdout",
     "output_type": "stream",
     "text": [
      "Enter a whole number\t6\n",
      "Your fibonacci Sequence\n",
      "0\n",
      "1\n",
      "1\n",
      "2\n",
      "3\n",
      "5\n"
     ]
    }
   ],
   "source": [
    "def fibonacci_series(n):\n",
    "    if n<=1:\n",
    "        return n\n",
    "    else:\n",
    "        return fibonacci_series(n-1) + fibonacci_series(n-2) \n",
    "\n",
    "n = int(input(\"Enter a whole number\\t\"))\n",
    "\n",
    "if n<1:\n",
    "    print(\"Invalid Input\")\n",
    "elif n==1:\n",
    "    print(0)\n",
    "else:\n",
    "    print(\"Your fibonacci Sequence\")\n",
    "    for i in range(n):\n",
    "        print(fibonacci_series(i))\n"
   ]
  },
  {
   "cell_type": "markdown",
   "id": "f35e7fb3",
   "metadata": {},
   "source": [
    "2. Write a Python Program to Find Factorial of Number Using Recursion?"
   ]
  },
  {
   "cell_type": "code",
   "execution_count": 2,
   "id": "03c39075",
   "metadata": {},
   "outputs": [
    {
     "name": "stdout",
     "output_type": "stream",
     "text": [
      "Enter a whole number\t5\n",
      "Factorial of 5 = 120\n"
     ]
    }
   ],
   "source": [
    "def factorial(n):\n",
    "    if n==1:\n",
    "        return 1\n",
    "    \n",
    "    return n*factorial(n-1)\n",
    "\n",
    "n = int(input(\"Enter a whole number\\t\"))\n",
    "print(f\"Factorial of {n} = {factorial(n)}\")"
   ]
  },
  {
   "cell_type": "markdown",
   "id": "51813cd3",
   "metadata": {},
   "source": [
    "3. Write a Python Program to calculate your Body Mass Index?"
   ]
  },
  {
   "cell_type": "code",
   "execution_count": 3,
   "id": "6a002f1b",
   "metadata": {},
   "outputs": [
    {
     "name": "stdout",
     "output_type": "stream",
     "text": [
      "Enter weight in kgs\t5\n",
      "Enter height in meters\t4\n",
      "BMI Score is 0.3125\n"
     ]
    }
   ],
   "source": [
    "def bmi(weight, height):\n",
    "    return weight/(height**2)\n",
    "\n",
    "weight = float(input(\"Enter weight in kgs\\t\"))\n",
    "height = float(input(\"Enter height in meters\\t\"))\n",
    "\n",
    "print(f\"BMI Score is {bmi(weight, height)}\")"
   ]
  },
  {
   "cell_type": "markdown",
   "id": "304cceff",
   "metadata": {},
   "source": [
    "\n",
    "4. Write a Python Program to calculate the natural logarithm of any number?"
   ]
  },
  {
   "cell_type": "markdown",
   "id": "ce08947f",
   "metadata": {},
   "source": [
    "Natural logarithm : (Base e)"
   ]
  },
  {
   "cell_type": "code",
   "execution_count": 5,
   "id": "03896ca9",
   "metadata": {},
   "outputs": [
    {
     "name": "stdout",
     "output_type": "stream",
     "text": [
      "Natural logarithm of 16 is : 2.772588722239781\n"
     ]
    }
   ],
   "source": [
    "import math\n",
    "\n",
    "print(f\"Natural logarithm of 16 is : {math.log(16)}\")"
   ]
  },
  {
   "cell_type": "markdown",
   "id": "f2cfeb81",
   "metadata": {},
   "source": [
    "5. Write a Python Program for cube sum of first n natural numbers?"
   ]
  },
  {
   "cell_type": "code",
   "execution_count": 2,
   "id": "2d280c5c",
   "metadata": {},
   "outputs": [
    {
     "name": "stdout",
     "output_type": "stream",
     "text": [
      "Enter your range.3\n",
      "Cube of 1 : 1\n",
      "Cube of 2 : 8\n",
      "Cube of 3 : 27\n"
     ]
    }
   ],
   "source": [
    "cube = lambda x : x**3\n",
    "\n",
    "n = int(input(\"Enter your range.\"))\n",
    "for i in range(1, n+1):\n",
    "    print(f\"Cube of {i} : {cube(i)}\")"
   ]
  },
  {
   "cell_type": "code",
   "execution_count": null,
   "id": "2810d179",
   "metadata": {},
   "outputs": [],
   "source": []
  }
 ],
 "metadata": {
  "kernelspec": {
   "display_name": "Python 3 (ipykernel)",
   "language": "python",
   "name": "python3"
  },
  "language_info": {
   "codemirror_mode": {
    "name": "ipython",
    "version": 3
   },
   "file_extension": ".py",
   "mimetype": "text/x-python",
   "name": "python",
   "nbconvert_exporter": "python",
   "pygments_lexer": "ipython3",
   "version": "3.9.12"
  }
 },
 "nbformat": 4,
 "nbformat_minor": 5
}
