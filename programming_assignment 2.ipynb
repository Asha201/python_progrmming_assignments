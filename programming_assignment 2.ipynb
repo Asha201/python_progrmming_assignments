{
 "cells": [
  {
   "cell_type": "markdown",
   "id": "5b1894af",
   "metadata": {},
   "source": [
    "# Programming _Assignment 2"
   ]
  },
  {
   "cell_type": "code",
   "execution_count": null,
   "id": "632635b3",
   "metadata": {},
   "outputs": [],
   "source": [
    "1. Write a Python program to convert kilometers to miles?"
   ]
  },
  {
   "cell_type": "code",
   "execution_count": 7,
   "id": "e171add2",
   "metadata": {},
   "outputs": [
    {
     "name": "stdout",
     "output_type": "stream",
     "text": [
      "Enter kilometer value\t15\n",
      "15.0 Km is equivalent to 9.32 miles\n"
     ]
    }
   ],
   "source": [
    "# user enter kilometer value\n",
    "km = float(input(\"Enter kilometer value\\t\"))\n",
    "\n",
    "# formula to converrt Km to mile\n",
    "miles = km * 0.62137\n",
    "\n",
    "print(f\"{km} Km is equivalent to {miles:.2f} miles\")"
   ]
  },
  {
   "cell_type": "code",
   "execution_count": null,
   "id": "f87ce251",
   "metadata": {},
   "outputs": [],
   "source": [
    "2. Write a Python program to convert Celsius to Fahrenheit?"
   ]
  },
  {
   "cell_type": "code",
   "execution_count": 12,
   "id": "9e18b39f",
   "metadata": {},
   "outputs": [
    {
     "name": "stdout",
     "output_type": "stream",
     "text": [
      "Enter Celcius degrees\t25\n",
      "25.0 C is equivalent to 77.0 F\n"
     ]
    }
   ],
   "source": [
    "\n",
    "# user input in  celsius\n",
    "c = float(input(\"Enter Celcius degrees\\t\"))\n",
    "\n",
    "# formula to convert Celsius to Fahrenheit\n",
    "f = c * (9/5) + 32\n",
    "\n",
    "print(f\"{c} C is equivalent to {f} F\")"
   ]
  },
  {
   "cell_type": "code",
   "execution_count": null,
   "id": "c2bd0105",
   "metadata": {},
   "outputs": [],
   "source": [
    "3. Write a Python program to display calendar?"
   ]
  },
  {
   "cell_type": "code",
   "execution_count": 25,
   "id": "ad0e604a",
   "metadata": {},
   "outputs": [
    {
     "name": "stdout",
     "output_type": "stream",
     "text": [
      "    August 2020\n",
      "Mo Tu We Th Fr Sa Su\n",
      "                1  2\n",
      " 3  4  5  6  7  8  9\n",
      "10 11 12 13 14 15 16\n",
      "17 18 19 20 21 22 23\n",
      "24 25 26 27 28 29 30\n",
      "31\n",
      "\n"
     ]
    }
   ],
   "source": [
    "\n",
    "# using month of calender\n",
    "import calendar\n",
    "\n",
    "# display month\n",
    "year = 2020\n",
    "month = 8\n",
    "\n",
    "print(calendar.month(year,month))"
   ]
  },
  {
   "cell_type": "code",
   "execution_count": 20,
   "id": "7ae02ddc",
   "metadata": {},
   "outputs": [
    {
     "name": "stdout",
     "output_type": "stream",
     "text": [
      "                                  2022\n",
      "\n",
      "      January                   February                   March\n",
      "Mo Tu We Th Fr Sa Su      Mo Tu We Th Fr Sa Su      Mo Tu We Th Fr Sa Su\n",
      "                1  2          1  2  3  4  5  6          1  2  3  4  5  6\n",
      " 3  4  5  6  7  8  9       7  8  9 10 11 12 13       7  8  9 10 11 12 13\n",
      "10 11 12 13 14 15 16      14 15 16 17 18 19 20      14 15 16 17 18 19 20\n",
      "17 18 19 20 21 22 23      21 22 23 24 25 26 27      21 22 23 24 25 26 27\n",
      "24 25 26 27 28 29 30      28                        28 29 30 31\n",
      "31\n",
      "\n",
      "       April                      May                       June\n",
      "Mo Tu We Th Fr Sa Su      Mo Tu We Th Fr Sa Su      Mo Tu We Th Fr Sa Su\n",
      "             1  2  3                         1             1  2  3  4  5\n",
      " 4  5  6  7  8  9 10       2  3  4  5  6  7  8       6  7  8  9 10 11 12\n",
      "11 12 13 14 15 16 17       9 10 11 12 13 14 15      13 14 15 16 17 18 19\n",
      "18 19 20 21 22 23 24      16 17 18 19 20 21 22      20 21 22 23 24 25 26\n",
      "25 26 27 28 29 30         23 24 25 26 27 28 29      27 28 29 30\n",
      "                          30 31\n",
      "\n",
      "        July                     August                  September\n",
      "Mo Tu We Th Fr Sa Su      Mo Tu We Th Fr Sa Su      Mo Tu We Th Fr Sa Su\n",
      "             1  2  3       1  2  3  4  5  6  7                1  2  3  4\n",
      " 4  5  6  7  8  9 10       8  9 10 11 12 13 14       5  6  7  8  9 10 11\n",
      "11 12 13 14 15 16 17      15 16 17 18 19 20 21      12 13 14 15 16 17 18\n",
      "18 19 20 21 22 23 24      22 23 24 25 26 27 28      19 20 21 22 23 24 25\n",
      "25 26 27 28 29 30 31      29 30 31                  26 27 28 29 30\n",
      "\n",
      "      October                   November                  December\n",
      "Mo Tu We Th Fr Sa Su      Mo Tu We Th Fr Sa Su      Mo Tu We Th Fr Sa Su\n",
      "                1  2          1  2  3  4  5  6                1  2  3  4\n",
      " 3  4  5  6  7  8  9       7  8  9 10 11 12 13       5  6  7  8  9 10 11\n",
      "10 11 12 13 14 15 16      14 15 16 17 18 19 20      12 13 14 15 16 17 18\n",
      "17 18 19 20 21 22 23      21 22 23 24 25 26 27      19 20 21 22 23 24 25\n",
      "24 25 26 27 28 29 30      28 29 30                  26 27 28 29 30 31\n",
      "31\n",
      "\n"
     ]
    }
   ],
   "source": [
    "# display full year\n",
    "year = 2022\n",
    "\n",
    "print(calendar.calendar(year))"
   ]
  },
  {
   "cell_type": "code",
   "execution_count": null,
   "id": "2208f552",
   "metadata": {},
   "outputs": [],
   "source": [
    "4. Write a Python program to solve quadratic equation?"
   ]
  },
  {
   "attachments": {},
   "cell_type": "markdown",
   "id": "8a5e78d8",
   "metadata": {},
   "source": [
    "       Standard form of quadratic equation is\n",
    "       ax2 + bx + c\n",
    "       where,\n",
    "       a, b, and c are coefficient and real numbers and also a ≠ 0.\n",
    "       If a is equal to 0 that equation is not valid quadratic equation.\n",
    "       \n"
   ]
  },
  {
   "cell_type": "code",
   "execution_count": 1,
   "id": "99489cb9",
   "metadata": {},
   "outputs": [
    {
     "name": "stdout",
     "output_type": "stream",
     "text": [
      "Input first number, (note: 0 not allowed)\t2\n",
      "Input second number\t5\n",
      "Input third number\t15\n",
      "Roots of  quadratic equation 2x^2 + 5x + 15 are,\n",
      "\n",
      "(-1.25+2.436698586202241j) \n",
      "(-1.25-2.436698586202241j)\n"
     ]
    }
   ],
   "source": [
    "# user input two variables\n",
    "\n",
    "a = int(input(\"Input first number, (note: 0 not allowed)\\t\"))    \n",
    "b = int(input(\"Input second number\\t\"))\n",
    "c = int(input(\"Input third number\\t\"))\n",
    "\n",
    "# calculate discriminant\n",
    "dis = (b**2) - (4*a*c)\n",
    "\n",
    "# finding 2 roots\n",
    "\n",
    "import cmath\n",
    "\n",
    "root1 = (-b + cmath.sqrt(dis))/(2*a)\n",
    "root2 = (-b - cmath.sqrt(dis))/(2*a)\n",
    "\n",
    "print(f\"Roots of  quadratic equation {a}x^2 + {b}x + {c} are,\\n\\n{root1} \\n{root2}\")"
   ]
  },
  {
   "cell_type": "code",
   "execution_count": null,
   "id": "023255a9",
   "metadata": {},
   "outputs": [],
   "source": [
    "5. Write a Python program to swap two variables without temp variable?"
   ]
  },
  {
   "cell_type": "code",
   "execution_count": 26,
   "id": "8402baeb",
   "metadata": {},
   "outputs": [
    {
     "name": "stdout",
     "output_type": "stream",
     "text": [
      "Input first number\t55\n",
      "Input second number\t22\n",
      "Value of a = 55, value of b = 22\n",
      "After Swapped Operation\n",
      "Value of a = 22, value of b = 55\n"
     ]
    }
   ],
   "source": [
    "# user input two variables\n",
    "\n",
    "a = int(input(\"Input first number\\t\"))\n",
    "b = int(input(\"Input second number\\t\"))\n",
    "\n",
    "print(f\"Value of a = {a}, value of b = {b}\")\n",
    "\n",
    "# using tuple swap\n",
    "a, b = b, a\n",
    "\n",
    "print(f\"After Swapped Operation\\n Value of a = {a}, value of b = {b}\")"
   ]
  },
  {
   "cell_type": "code",
   "execution_count": null,
   "id": "d6c930bb",
   "metadata": {},
   "outputs": [],
   "source": []
  }
 ],
 "metadata": {
  "kernelspec": {
   "display_name": "Python 3 (ipykernel)",
   "language": "python",
   "name": "python3"
  },
  "language_info": {
   "codemirror_mode": {
    "name": "ipython",
    "version": 3
   },
   "file_extension": ".py",
   "mimetype": "text/x-python",
   "name": "python",
   "nbconvert_exporter": "python",
   "pygments_lexer": "ipython3",
   "version": "3.9.12"
  }
 },
 "nbformat": 4,
 "nbformat_minor": 5
}
