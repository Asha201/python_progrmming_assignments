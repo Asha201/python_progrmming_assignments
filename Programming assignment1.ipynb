{
 "cells": [
  {
   "cell_type": "markdown",
   "id": "419a4095",
   "metadata": {},
   "source": [
    "# Progrmming Assignment 1"
   ]
  },
  {
   "cell_type": "markdown",
   "id": "6fc6446e",
   "metadata": {},
   "source": [
    "# Q1. Write a Python program to print \"Hello pythoon\"?"
   ]
  },
  {
   "cell_type": "code",
   "execution_count": 4,
   "id": "8ecb8e1c",
   "metadata": {},
   "outputs": [
    {
     "name": "stdout",
     "output_type": "stream",
     "text": [
      "Hello Python\n"
     ]
    }
   ],
   "source": [
    "print(\"Hello Python\")"
   ]
  },
  {
   "cell_type": "markdown",
   "id": "803cdc39",
   "metadata": {},
   "source": [
    "# Q2.Write a Python program to do arithmetical operations addition and division?"
   ]
  },
  {
   "cell_type": "code",
   "execution_count": 8,
   "id": "33af2473",
   "metadata": {},
   "outputs": [
    {
     "name": "stdout",
     "output_type": "stream",
     "text": [
      "Addition  30\n",
      "division 0.5\n",
      "division  2.0\n"
     ]
    }
   ],
   "source": [
    "n1 = 10\n",
    "n2 = 20\n",
    "\n",
    "print(\"Addition \" , n1 +n2)\n",
    "print(\"division\",  n1/n2)\n",
    "print(\"division \", n2/n1)\n",
    "# division operation output in float type"
   ]
  },
  {
   "cell_type": "markdown",
   "id": "c92a1455",
   "metadata": {},
   "source": [
    "# Q3.Write a Python program to find the area of a triangle?"
   ]
  },
  {
   "cell_type": "code",
   "execution_count": 2,
   "id": "65e4b843",
   "metadata": {},
   "outputs": [
    {
     "name": "stdout",
     "output_type": "stream",
     "text": [
      "Enter height of a triangle  15\n",
      "Enter base of a triangle  10\n",
      "Area of triangle with height:15 and base :10 is 75.0 \n"
     ]
    }
   ],
   "source": [
    "# to find area of triangle base and height is requried \n",
    "\n",
    "h = int(input(\"Enter height of a triangle  \"))\n",
    "b = int(input(\"Enter base of a triangle  \"))\n",
    "\n",
    "area = (1/2)*(h * b)\n",
    "\n",
    "print(f\"Area of triangle with height:{h} and base :{b} is {area} \")"
   ]
  },
  {
   "cell_type": "markdown",
   "id": "ce24ae85",
   "metadata": {},
   "source": [
    "# Q4.Write a Python program to swap two variables?"
   ]
  },
  {
   "cell_type": "code",
   "execution_count": 4,
   "id": "f77bf20a",
   "metadata": {},
   "outputs": [
    {
     "name": "stdout",
     "output_type": "stream",
     "text": [
      " Enter first number\t10\n",
      "Enter second number\t20\n",
      "value of a = 10, value of b = 20\n",
      "After swapping the value of a = 20, value of b = 10\n"
     ]
    }
   ],
   "source": [
    "a = int(input (\" Enter first number\\t\"))\n",
    "b = int (input ( \"Enter second number\\t\"))\n",
    "\n",
    "print(f\"value of a = {a}, value of b = {b}\")\n",
    "\n",
    "# swappping the variables\n",
    "\n",
    "a,b = b,a \n",
    "\n",
    "print(f\"After swapping the value of a = {a}, value of b = {b}\")\n"
   ]
  },
  {
   "cell_type": "markdown",
   "id": "c67e94bf",
   "metadata": {},
   "source": [
    "# Q5.Write a Python program to generate a random number?"
   ]
  },
  {
   "cell_type": "code",
   "execution_count": 5,
   "id": "9a7d095b",
   "metadata": {},
   "outputs": [],
   "source": [
    "import random"
   ]
  },
  {
   "cell_type": "code",
   "execution_count": 6,
   "id": "0bc5b61f",
   "metadata": {},
   "outputs": [
    {
     "name": "stdout",
     "output_type": "stream",
     "text": [
      "89\n"
     ]
    }
   ],
   "source": [
    "print(random.randint(1,100))"
   ]
  },
  {
   "cell_type": "code",
   "execution_count": null,
   "id": "40838e42",
   "metadata": {},
   "outputs": [],
   "source": []
  }
 ],
 "metadata": {
  "kernelspec": {
   "display_name": "Python 3 (ipykernel)",
   "language": "python",
   "name": "python3"
  },
  "language_info": {
   "codemirror_mode": {
    "name": "ipython",
    "version": 3
   },
   "file_extension": ".py",
   "mimetype": "text/x-python",
   "name": "python",
   "nbconvert_exporter": "python",
   "pygments_lexer": "ipython3",
   "version": "3.9.12"
  }
 },
 "nbformat": 4,
 "nbformat_minor": 5
}
