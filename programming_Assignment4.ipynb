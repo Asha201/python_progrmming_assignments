{
 "cells": [
  {
   "cell_type": "markdown",
   "id": "5a856d7e",
   "metadata": {},
   "source": [
    "# Programming_Assignment4\n",
    "\n",
    "\n",
    "\n",
    "\n"
   ]
  },
  {
   "cell_type": "markdown",
   "id": "9d07f29a",
   "metadata": {},
   "source": [
    "1. Write a Python Program to Find the Factorial of a Number?"
   ]
  },
  {
   "cell_type": "code",
   "execution_count": 2,
   "id": "afaf2414",
   "metadata": {},
   "outputs": [],
   "source": [
    "def factorialnumber(num):\n",
    "    \n",
    "    if (num==1):\n",
    "        return 1\n",
    "    else:\n",
    "        return num*factorialnumber(num-1)\n",
    "    \n",
    "    "
   ]
  },
  {
   "cell_type": "code",
   "execution_count": 3,
   "id": "0b241e44",
   "metadata": {},
   "outputs": [
    {
     "name": "stdout",
     "output_type": "stream",
     "text": [
      "Enter a number   5\n"
     ]
    },
    {
     "data": {
      "text/plain": [
       "120"
      ]
     },
     "execution_count": 3,
     "metadata": {},
     "output_type": "execute_result"
    }
   ],
   "source": [
    "num = int(input(\"Enter a number   \"))\n",
    "factorialnumber(num)"
   ]
  },
  {
   "cell_type": "markdown",
   "id": "da7b795e",
   "metadata": {},
   "source": [
    "2. Write a Python Program to Display the multiplication Table?"
   ]
  },
  {
   "cell_type": "code",
   "execution_count": 15,
   "id": "4d95a4ae",
   "metadata": {},
   "outputs": [],
   "source": [
    "def multiplication_table(num):\n",
    "    for i in range(1,11):\n",
    "        print(f\"{num}X{i}={num*i}\")"
   ]
  },
  {
   "cell_type": "code",
   "execution_count": 16,
   "id": "bc8e88ca",
   "metadata": {},
   "outputs": [
    {
     "name": "stdout",
     "output_type": "stream",
     "text": [
      "enter number :\t9\n",
      "9X1=9\n",
      "9X2=18\n",
      "9X3=27\n",
      "9X4=36\n",
      "9X5=45\n",
      "9X6=54\n",
      "9X7=63\n",
      "9X8=72\n",
      "9X9=81\n",
      "9X10=90\n"
     ]
    }
   ],
   "source": [
    "num =int(input(\"enter number :\\t\"))\n",
    "multiplication_table(num)"
   ]
  },
  {
   "cell_type": "markdown",
   "id": "831a437e",
   "metadata": {},
   "source": [
    "3. Write a Python Program to Print the Fibonacci sequence?"
   ]
  },
  {
   "cell_type": "code",
   "execution_count": 21,
   "id": "9b977d45",
   "metadata": {},
   "outputs": [],
   "source": [
    "def printfibonacciseq(n):\n",
    "    a=0\n",
    "    b=1\n",
    "    \n",
    "    if n<1:\n",
    "        print(\"Enter positive number\")\n",
    "    elif n==1:\n",
    "        print(\"Fibonacci Sequence:\") \n",
    "        print(a)\n",
    "    else:\n",
    "        print(\"fibonacci Sequence :  \")\n",
    "        for i in range(n):\n",
    "            print(a)\n",
    "            c = a + b\n",
    "            a = b\n",
    "            b = c\n",
    "\n",
    "    "
   ]
  },
  {
   "cell_type": "code",
   "execution_count": 18,
   "id": "62a107aa",
   "metadata": {},
   "outputs": [
    {
     "name": "stdout",
     "output_type": "stream",
     "text": [
      "fibonacci Sequence :  \n",
      "0\n",
      "1\n",
      "1\n",
      "2\n",
      "3\n",
      "5\n",
      "8\n",
      "13\n",
      "21\n",
      "34\n",
      "55\n",
      "89\n",
      "144\n",
      "233\n",
      "377\n"
     ]
    }
   ],
   "source": [
    "printfibonacciseq(15)"
   ]
  },
  {
   "cell_type": "markdown",
   "id": "b53a6f28",
   "metadata": {},
   "source": [
    "4. Write a Python Program to Check Armstrong Number?"
   ]
  },
  {
   "cell_type": "code",
   "execution_count": 63,
   "id": "2a387251",
   "metadata": {},
   "outputs": [
    {
     "data": {
      "text/plain": [
       "True"
      ]
     },
     "execution_count": 63,
     "metadata": {},
     "output_type": "execute_result"
    }
   ],
   "source": [
    "371 == 3*3*3 + 7*7*7 + 1*1*1"
   ]
  },
  {
   "cell_type": "code",
   "execution_count": 23,
   "id": "c8b23c04",
   "metadata": {},
   "outputs": [],
   "source": [
    "import math\n",
    "def order(num):\n",
    "    return int(math.log10(num))+1\n",
    "\n",
    "def isArmstrong(num):\n",
    "    n = order(num)\n",
    "    s = 0\n",
    "    temp = num\n",
    "\n",
    "    while temp!=0:\n",
    "        r = temp%10\n",
    "        s += r**n\n",
    "        temp = temp//10\n",
    "\n",
    "    return s==num"
   ]
  },
  {
   "cell_type": "code",
   "execution_count": 24,
   "id": "871aea9b",
   "metadata": {},
   "outputs": [
    {
     "data": {
      "text/plain": [
       "True"
      ]
     },
     "execution_count": 24,
     "metadata": {},
     "output_type": "execute_result"
    }
   ],
   "source": [
    "isArmstrong(153)"
   ]
  },
  {
   "cell_type": "code",
   "execution_count": 64,
   "id": "f75e470c",
   "metadata": {},
   "outputs": [
    {
     "data": {
      "text/plain": [
       "False"
      ]
     },
     "execution_count": 64,
     "metadata": {},
     "output_type": "execute_result"
    }
   ],
   "source": [
    "isArmstrong(154)"
   ]
  },
  {
   "cell_type": "markdown",
   "id": "bfa23341",
   "metadata": {},
   "source": [
    "5. Write a Python Program to Find Armstrong Number in an Interval?"
   ]
  },
  {
   "cell_type": "code",
   "execution_count": 25,
   "id": "d540c767",
   "metadata": {},
   "outputs": [],
   "source": [
    "lower_bound = 100\n",
    "upper_bound = 1000"
   ]
  },
  {
   "cell_type": "code",
   "execution_count": 26,
   "id": "4d019e0d",
   "metadata": {},
   "outputs": [
    {
     "name": "stdout",
     "output_type": "stream",
     "text": [
      "Number 153 is Armstrong Number\n",
      "Number 370 is Armstrong Number\n",
      "Number 371 is Armstrong Number\n",
      "Number 407 is Armstrong Number\n"
     ]
    }
   ],
   "source": [
    "for r in range(lower_bound, upper_bound+1):\n",
    "    if isArmstrong(r):\n",
    "        print(f\"Number {r} is Armstrong Number\")"
   ]
  },
  {
   "cell_type": "markdown",
   "id": "4287154a",
   "metadata": {},
   "source": [
    "6. Write a Python Program to Find the Sum of Natural Numbers?"
   ]
  },
  {
   "cell_type": "markdown",
   "id": "a4166cfb",
   "metadata": {},
   "source": [
    "Given a number n find sum of first n natural numbers.\n",
    "\n",
    "n = 6\n",
    "6+5+4+3+2+1 = 21"
   ]
  },
  {
   "cell_type": "code",
   "execution_count": 27,
   "id": "627a3d19",
   "metadata": {},
   "outputs": [],
   "source": [
    "def findSum(n) :\n",
    "    return (n / 2) * (n + 1) if (n % 2 == 0) else ((n + 1) / 2) * n"
   ]
  },
  {
   "cell_type": "code",
   "execution_count": 28,
   "id": "624975e1",
   "metadata": {},
   "outputs": [
    {
     "data": {
      "text/plain": [
       "21.0"
      ]
     },
     "execution_count": 28,
     "metadata": {},
     "output_type": "execute_result"
    }
   ],
   "source": [
    "findSum(6)"
   ]
  },
  {
   "cell_type": "code",
   "execution_count": 29,
   "id": "e3103a2c",
   "metadata": {},
   "outputs": [
    {
     "data": {
      "text/plain": [
       "36.0"
      ]
     },
     "execution_count": 29,
     "metadata": {},
     "output_type": "execute_result"
    }
   ],
   "source": [
    "findSum(8)"
   ]
  },
  {
   "cell_type": "code",
   "execution_count": null,
   "id": "83185dba",
   "metadata": {},
   "outputs": [],
   "source": []
  }
 ],
 "metadata": {
  "kernelspec": {
   "display_name": "Python 3 (ipykernel)",
   "language": "python",
   "name": "python3"
  },
  "language_info": {
   "codemirror_mode": {
    "name": "ipython",
    "version": 3
   },
   "file_extension": ".py",
   "mimetype": "text/x-python",
   "name": "python",
   "nbconvert_exporter": "python",
   "pygments_lexer": "ipython3",
   "version": "3.9.12"
  }
 },
 "nbformat": 4,
 "nbformat_minor": 5
}
